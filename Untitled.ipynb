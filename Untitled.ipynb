{
 "cells": [
  {
   "cell_type": "code",
   "execution_count": 1,
   "id": "9ed62eae-b96a-4a89-95e9-c0a9ea14c201",
   "metadata": {},
   "outputs": [],
   "source": []
  },
  {
   "cell_type": "code",
   "execution_count": 29,
   "id": "ab107475-d513-4c22-bfae-44bda549ba96",
   "metadata": {},
   "outputs": [],
   "source": [
    "params = {\n",
    "    \"TERM1\": 7434546,\n",
    "    \"Sec1\": \"PTO1\",\n",
    "    \"Sect2\": \"HITOFF\",\n",
    "    \"d\": \"PALL\",\n",
    "    \"p\": 1,\n",
    "    \"u\": \"2Fnetahtml2FPTO2Fsrchnum.htm\",\n",
    "    \"r\":0,\n",
    "    \"f\":\"S\",\n",
    "    \"l\": 50   \n",
    "}\n",
    "url = \"http://patft.uspto.gov/netacgi/nph-Parser\"\n",
    "headers = {\"Accept\": \"text/html,application/xhtml+xml,application/xml;q=0.9,/;q=0.8\", \n",
    "           \"User-Agent\": \"Mozilla/5.0 (Macintosh; Intel Mac OS X 10_15_5) AppleWebKit/605.1.15 (KHTML, like Gecko) Version/13.1.1 Safari/605.1.15\"} \n",
    "text =requests.get(\"http://patft.uspto.gov/netacgi/nph-Parser?TERM1=928392839&Sect1=PTO1&Sect2=HITOFF&d=PALL&p=1&u=%2Fnetahtml%2FPTO%2Fsrchnum.htm&r=0&f=S&l=50\", headers=headers).text"
   ]
  },
  {
   "cell_type": "code",
   "execution_count": 32,
   "id": "b3b32fa4-ceea-4220-b2e7-935db4a6a10f",
   "metadata": {},
   "outputs": [
    {
     "data": {
      "text/plain": [
       "True"
      ]
     },
     "execution_count": 32,
     "metadata": {},
     "output_type": "execute_result"
    }
   ],
   "source": [
    "def no_matched_documents(url):\n",
    "    headers = {\"Accept\": \"text/html,application/xhtml+xml,application/xml;q=0.9,/;q=0.8\", \n",
    "               \"User-Agent\": \"Mozilla/5.0 (Macintosh; Intel Mac OS X 10_15_5) AppleWebKit/605.1.15 (KHTML, like Gecko) Version/13.1.1 Safari/605.1.15\"} \n",
    "    text =requests.get(\"http://patft.uspto.gov/netacgi/nph-Parser?TERM1=928392839&Sect1=PTO1&Sect2=HITOFF&d=PALL&p=1&u=%2Fnetahtml%2FPTO%2Fsrchnum.htm&r=0&f=S&l=50\", headers=headers).text\n",
    "    \n",
    "    if \"\" in text:\n",
    "        return True\n",
    "        \n",
    "    else:\n",
    "        return False\n",
    "    "
   ]
  },
  {
   "cell_type": "code",
   "execution_count": null,
   "id": "c3d9a825-b862-4d5d-87c7-d5e96a54ea87",
   "metadata": {},
   "outputs": [],
   "source": []
  }
 ],
 "metadata": {
  "kernelspec": {
   "display_name": "mwaa_airflow-python37",
   "language": "python",
   "name": "mwaa_airflow-python37"
  },
  "language_info": {
   "codemirror_mode": {
    "name": "ipython",
    "version": 3
   },
   "file_extension": ".py",
   "mimetype": "text/x-python",
   "name": "python",
   "nbconvert_exporter": "python",
   "pygments_lexer": "ipython3",
   "version": "3.9.1"
  }
 },
 "nbformat": 4,
 "nbformat_minor": 5
}
